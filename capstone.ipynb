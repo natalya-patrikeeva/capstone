{
 "cells": [
  {
   "cell_type": "markdown",
   "metadata": {
    "deletable": true,
    "editable": true
   },
   "source": [
    "### Capstone Project\n",
    "#### Data Acquisition\n",
    "First step is to acquire a large dataset of openly available academic abstracts published in recent years in Computer Science field. \n",
    "For this step, `database.py` Python script  scapes abstract text and the corresponding authors' names from [https://arxiv.org](https://arxiv.org). I loop over publications from February, 2017 back to February, 2012 to collect 5 years worth of abstracts and store the data in sqlite database `Articles` so I would only have to do this once and then work with the database. \n",
    "\n",
    "#### Preprocessing\n",
    "As a standard NLP text cleaning step, I convert the text words to lower case, remove the digits and punctuation and then stem the words using Snowball Stemmer before storing preprocessed text in the database.\n",
    "\n",
    "Working with the Articles databse, `count_db.py` Python script counts the number of publications per author and writes the results in sqlite table `Counts`. Next, I can sort the authors by the number of publications or filter out authors that only have a few publications. \n",
    "\n",
    "I cast the problem as a multiclass classification problem and propose to use a convolutional neural network (CNN) model as a solution. "
   ]
  },
  {
   "cell_type": "markdown",
   "metadata": {
    "deletable": true,
    "editable": true
   },
   "source": [
    "### Data Exploration\n",
    "The full dataset contains 87,587 abstracts from 2/2012 through 2/2017. \n",
    "\n",
    "First, I want to test my convolutional neural network model against benchmark logistic regression model with a much smaller subset of data, using top only authors with 100 or more abstracts. \n",
    "\n",
    "I count the number of articles per author to filter out authors with less than 20 abstracts assuming that 20 publications will be sufficient to train and test the classifier. Overall, there are 107,947 authors with the article count ranging from 166 to 1. If I limit the minimum number of articles per author to 10 then there are 4027 authors. If I limit the minimum number of articles per author to 20 then there are 922 authors.\n",
    "\n",
    "But for simplicity and computational time sake, `cnn.py` Python script limits the number of authors to 10 and compares logistic regression benchmark and CNN models as a proxy to larger number of classes and amount of data."
   ]
  },
  {
   "cell_type": "code",
   "execution_count": 1,
   "metadata": {
    "collapsed": false,
    "deletable": true,
    "editable": true
   },
   "outputs": [
    {
     "name": "stdout",
     "output_type": "stream",
     "text": [
      "number of unique authors:  10\n"
     ]
    }
   ],
   "source": [
    "import sqlite3\n",
    "conn = sqlite3.connect('articles.sqlite')\n",
    "cur = conn.cursor()\n",
    "\n",
    "# select top authors\n",
    "top_author = 'SELECT author_unique FROM Counts WHERE count >= 50 ORDER BY count DESC LIMIT 10'\n",
    "\n",
    "author_doc = []\n",
    "author_lst = []\n",
    "\n",
    "for i in cur.execute(top_author) :\n",
    "    author_lst.append(i[0])\n",
    "print \"number of unique authors: \", len(author_lst)"
   ]
  },
  {
   "cell_type": "markdown",
   "metadata": {
    "deletable": true,
    "editable": true
   },
   "source": [
    "I use Pandas library to build a dataframe with one column containing the author and the second column - abstract text. In the database, we might have several authors who collaborated on the publication. So, we want to split the authors and then append the author name and abstract text into a big dataframe. We end up with 1772 abstracts in the dataframe among these top 10 authors. "
   ]
  },
  {
   "cell_type": "code",
   "execution_count": 2,
   "metadata": {
    "collapsed": false,
    "deletable": true,
    "editable": true
   },
   "outputs": [
    {
     "name": "stdout",
     "output_type": "stream",
     "text": [
      "size:  (1172, 2)\n",
      "            author                                                doc\n",
      "0  Rumpe, Bernhard  code generat is regard as an essenti part of m...\n",
      "1  Rumpe, Bernhard  biolog nervous system exhibit astonish complex...\n",
      "2  Rumpe, Bernhard  generat softwar from abstract model is a prime...\n",
      "3  Rumpe, Bernhard  templatebas code generat develop as part of mo...\n",
      "4  Rumpe, Bernhard  mani textual softwar languag share common conc...\n"
     ]
    }
   ],
   "source": [
    "import itertools\n",
    "import pandas as pd\n",
    "\n",
    "d={}\n",
    "list_authors = []\n",
    "for i, author_correct in enumerate(author_lst):\n",
    "\n",
    "    cur.execute('''SELECT abstract, author FROM Articles WHERE author LIKE ? ''', ('%{}%'.format(author_correct), ) )\n",
    "    all_rows = cur.fetchall()\n",
    "\n",
    "    authors_list = [x[1] for x in all_rows]\n",
    "    docs = [x[0] for x in all_rows]\n",
    "\n",
    "    for author, row in itertools.izip(authors_list, docs) :\n",
    "        authors = author.split('; ')\n",
    "        for a in authors:\n",
    "            if author_correct == a:\n",
    "                author_doc.append(row)\n",
    "                list_authors.append(a)\n",
    "    conn.commit()\n",
    "\n",
    "df = pd.DataFrame({'author' : list_authors, 'doc': author_doc})\n",
    "print \"size: \", df.shape\n",
    "print df.head()\n",
    "\n",
    "cur.close()"
   ]
  },
  {
   "cell_type": "markdown",
   "metadata": {
    "deletable": true,
    "editable": true
   },
   "source": [
    "We can count the number of publications per author to make sure the counts correspond to what we see in the database. As expected, Bernhard Rumpe is the top author with 166 publications and Loet Leydesdorff is the tenth author iwth 96 publications in the database. "
   ]
  },
  {
   "cell_type": "code",
   "execution_count": 3,
   "metadata": {
    "collapsed": false,
    "deletable": true,
    "editable": true
   },
   "outputs": [
    {
     "name": "stdout",
     "output_type": "stream",
     "text": [
      "Rumpe, Bernhard          166\n",
      "Bengio, Yoshua           137\n",
      "Poor, H. Vincent         133\n",
      "Zhang, Rui               123\n",
      "Schober, Robert          114\n",
      "Alouini, Mohamed-Slim    106\n",
      "Shen, Chunhua            102\n",
      "Popovski, Petar           98\n",
      "Aickelin, Uwe             97\n",
      "Leydesdorff, Loet         96\n",
      "Name: author, dtype: int64\n"
     ]
    }
   ],
   "source": [
    "print df['author'].value_counts()"
   ]
  },
  {
   "cell_type": "markdown",
   "metadata": {
    "deletable": true,
    "editable": true
   },
   "source": [
    "For CNN model, we want to make sure all the documents are the same length meanining they contain the same amount of words. So, we pad shorter documents to be the same length as the longest document. The longest abstract has 319 words."
   ]
  },
  {
   "cell_type": "code",
   "execution_count": 4,
   "metadata": {
    "collapsed": false,
    "deletable": true,
    "editable": true
   },
   "outputs": [
    {
     "name": "stdout",
     "output_type": "stream",
     "text": [
      "max doc length:  319\n"
     ]
    }
   ],
   "source": [
    "vocab = []\n",
    "lengths = []\n",
    "\n",
    "for i in range(df.shape[0]):\n",
    "    doc = df['doc'][i]\n",
    "    doc_split = doc.split(\" \")\n",
    "    lengths.append(len(doc_split))\n",
    "\n",
    "max_length = max(lengths)\n",
    "print \"max doc length: \", max_length      \n",
    "\n",
    "for i in range(df.shape[0]):\n",
    "    doc = df['doc'][i]\n",
    "    doc_split = doc.split(\" \")\n",
    "    # How much to pad each doc\n",
    "    padding_num = max_length - len(doc_split)\n",
    "    doc_new = doc + \" </PAD>\" * padding_num\n",
    "    words = doc_new.split(\" \")\n",
    "    vocab.append(words)\n"
   ]
  },
  {
   "cell_type": "markdown",
   "metadata": {
    "deletable": true,
    "editable": true
   },
   "source": [
    "Instead of dealing with text directly, we want to build a vocabulary of words and then map words to index to convert text to integer vectors for input to CNN model. We first count the words, build an index and then a mapping from index to a word. The size of our vocabulary is the total number of unique words which is 7,247 words. The input data is now converted into integer vectors with the length of 319 for each abstract."
   ]
  },
  {
   "cell_type": "code",
   "execution_count": 5,
   "metadata": {
    "collapsed": false,
    "deletable": true,
    "editable": true
   },
   "outputs": [
    {
     "name": "stdout",
     "output_type": "stream",
     "text": [
      "vocab shape:  7247\n",
      "x size:  (1172, 319)\n"
     ]
    }
   ],
   "source": [
    "from collections import Counter\n",
    "import numpy as np\n",
    "\n",
    "word_counts = Counter(itertools.chain(*vocab))\n",
    "\n",
    "# Mapping from index to word\n",
    "vocabulary_inv = [x[0] for x in word_counts.most_common()]\n",
    "\n",
    "# Mapping from word to index\n",
    "vocabulary = {x: i for i, x in enumerate(vocabulary_inv)}\n",
    "\n",
    "# Map docs and labels (authors) to vectors based on a vocabulary\n",
    "print \"vocab shape: \", len(vocabulary)\n",
    "x = np.array([ [ vocabulary[word] for word in doc ] for doc in vocab ])\n",
    "print \"x size: \", x.shape"
   ]
  },
  {
   "cell_type": "markdown",
   "metadata": {
    "deletable": true,
    "editable": true
   },
   "source": [
    "We want to encode the labels (authors' names) as one-hot vectors to represent true labels in CNN model. First, we convert labels to factors and then use LabelBinarizer function to convert labels to 10-dimensional one-hot vectors."
   ]
  },
  {
   "cell_type": "code",
   "execution_count": 6,
   "metadata": {
    "collapsed": false,
    "deletable": true,
    "editable": true
   },
   "outputs": [
    {
     "name": "stdout",
     "output_type": "stream",
     "text": [
      "classes:  [0 1 2 3 4 5 6 7 8 9]\n",
      "labels:  (1172, 10)\n"
     ]
    }
   ],
   "source": [
    "labels = df['author'].astype('category')\n",
    "labels = labels.cat.codes\n",
    "labels_unique = np.unique(labels)\n",
    "\n",
    "from sklearn import preprocessing\n",
    "\n",
    "lb = preprocessing.LabelBinarizer()\n",
    "lb.fit(labels)\n",
    "print \"classes: \", lb.classes_\n",
    "labels_tf = lb.transform(labels)\n",
    "print \"labels: \", labels_tf.shape"
   ]
  },
  {
   "cell_type": "markdown",
   "metadata": {},
   "source": [
    "Visualizing data as 2d histograms. For each document, count the frequency of the word and plot as pareto chart."
   ]
  },
  {
   "cell_type": "code",
   "execution_count": 10,
   "metadata": {
    "collapsed": false
   },
   "outputs": [
    {
     "data": {
      "image/png": "[encoded data removed]",
      "text/plain": [
       "<matplotlib.figure.Figure at 0x11c3f7510>"
      ]
     },
     "metadata": {},
     "output_type": "display_data"
    }
   ],
   "source": [
    "# Pareto Chart \n",
    "import matplotlib.pyplot as plt\n",
    "# Pretty display for notebooks\n",
    "%matplotlib inline\n",
    "\n",
    "import matplotlib\n",
    "# store in data frame\n",
    "    # words as columns, authors as rows\n",
    "    #           |  word 1   |  word 2   | word n\n",
    "    #           _____________________________________\n",
    "    #  author 1 | frequency | frequency | frequency\n",
    "    #  author 2 | frequency | frequency | frequency\n",
    "    #  author 3 | frequency | frequency | frequency   \n",
    "\n",
    "abstract = df.iloc[0]\n",
    "# print abstract.values[1]\n",
    "\n",
    "common_words = [\"a\", \"about\", \"above\", \"above\", \"across\", \"after\", \"afterwards\", \"again\", \"against\", \"all\", \"almost\", \"alone\", \"along\", \"already\", \"also\",\"although\",\"always\",\"am\",\"among\", \"amongst\", \"amoungst\", \"amount\",  \"an\", \"and\", \"another\", \"any\",\"anyhow\",\"anyone\",\"anything\",\"anyway\", \"anywhere\", \"are\", \"around\", \"as\",  \"at\", \"back\",\"be\",\"became\", \"because\",\"become\",\"becomes\", \"becoming\", \"been\", \"before\", \"beforehand\", \"behind\", \"being\", \"below\", \"beside\", \"besides\", \"between\", \"beyond\", \"bill\", \"both\", \"bottom\",\"but\", \"by\", \"call\", \"can\", \"cannot\", \"cant\", \"co\", \"con\", \"could\", \"couldnt\", \"cry\", \"de\", \"describe\", \"detail\", \"do\", \"done\", \"down\", \"due\", \"during\", \"each\", \"eg\", \"eight\", \"either\", \"eleven\",\"else\", \"elsewhere\", \"empty\", \"enough\", \"etc\", \"even\", \"ever\", \"every\", \"everyone\", \"everything\", \"everywhere\", \"except\", \"few\", \"fifteen\", \"fify\", \"fill\", \"find\", \"fire\", \"first\", \"five\", \"for\", \"former\", \"formerly\", \"forty\", \"found\", \"four\", \"from\", \"front\", \"full\", \"further\", \"get\", \"give\", \"go\", \"had\", \"has\", \"hasnt\", \"have\", \"he\", \"hence\", \"her\", \"here\", \"hereafter\", \"hereby\", \"herein\", \"hereupon\", \"hers\", \"herself\", \"him\", \"himself\", \"his\", \"how\", \"however\", \"hundred\", \"ie\", \"if\", \"in\", \"inc\", \"indeed\", \"interest\", \"into\", \"is\", \"it\", \"its\", \"itself\", \"keep\", \"last\", \"latter\", \"latterly\", \"least\", \"less\", \"ltd\", \"made\", \"many\", \"may\", \"me\", \"meanwhile\", \"might\", \"mill\", \"mine\", \"more\", \"moreover\", \"most\", \"mostly\", \"move\", \"much\", \"must\", \"my\", \"myself\", \"name\", \"namely\", \"neither\", \"never\", \"nevertheless\", \"next\", \"nine\", \"no\", \"nobody\", \"none\", \"noone\", \"nor\", \"not\", \"nothing\", \"now\", \"nowhere\", \"of\", \"off\", \"often\", \"on\", \"once\", \"one\", \"only\", \"onto\", \"or\", \"other\", \"others\", \"otherwise\", \"our\", \"ours\", \"ourselves\", \"out\", \"over\", \"own\",\"part\", \"per\", \"perhaps\", \"please\", \"put\", \"rather\", \"re\", \"same\", \"see\", \"seem\", \"seemed\", \"seeming\", \"seems\", \"serious\", \"several\", \"she\", \"should\", \"show\", \"side\", \"since\", \"sincere\", \"six\", \"sixty\", \"so\", \"some\", \"somehow\", \"someone\", \"something\", \"sometime\", \"sometimes\", \"somewhere\", \"still\", \"such\", \"system\", \"take\", \"ten\", \"than\", \"that\", \"the\", \"their\", \"them\", \"themselves\", \"then\", \"thence\", \"there\", \"thereafter\", \"thereby\", \"therefore\", \"therein\", \"thereupon\", \"these\", \"they\", \"thickv\", \"thin\", \"third\", \"this\", \"those\", \"though\", \"three\", \"through\", \"throughout\", \"thru\", \"thus\", \"to\", \"together\", \"too\", \"top\", \"toward\", \"towards\", \"twelve\", \"twenty\", \"two\", \"un\", \"under\", \"until\", \"up\", \"upon\", \"us\", \"very\", \"via\", \"was\", \"we\", \"well\", \"were\", \"what\", \"whatever\", \"when\", \"whence\", \"whenever\", \"where\", \"whereafter\", \"whereas\", \"whereby\", \"wherein\", \"whereupon\", \"wherever\", \"whether\", \"which\", \"while\", \"whither\", \"who\", \"whoever\", \"whole\", \"whom\", \"whose\", \"why\", \"will\", \"with\", \"within\", \"without\", \"would\", \"yet\", \"you\", \"your\", \"yours\", \"yourself\", \"yourselves\", \"the\"]\n",
    "\n",
    "counts_total = dict()\n",
    "\n",
    "for index, row in df.iterrows():\n",
    "    words = row.values[1].split()\n",
    "    \n",
    "    for word in words:\n",
    "        counts_total[word] = counts_total.get(word,0) + 1\n",
    "    for common_word in common_words:\n",
    "        counts_total.pop(common_word, None)\n",
    "    \n",
    "# print counts_total\n",
    "\n",
    "# sort counts in descending order\n",
    "labels, heights = zip(*sorted(((k, v) for k, v in counts_total.items()), reverse=True))\n",
    "\n",
    "from paretochart import pareto\n",
    "fig, ax = plt.subplots(figsize=(40, 20))\n",
    "pareto(heights, labels, cumplot=False, limit=0.1)\n",
    "matplotlib.rc('xtick', labelsize=30) \n",
    "matplotlib.rc('ytick', labelsize=30) \n",
    "\n",
    "plt.title('Most frequent words in all abstracts', fontsize=40)\n",
    "plt.show()\n"
   ]
  },
  {
   "cell_type": "markdown",
   "metadata": {},
   "source": [
    "Wordcloud of most frequent words in the corpus."
   ]
  },
  {
   "cell_type": "code",
   "execution_count": 11,
   "metadata": {
    "collapsed": false
   },
   "outputs": [
    {
     "ename": "ImportError",
     "evalue": "No module named Image",
     "output_type": "error",
     "traceback": [
      "\u001b[0;31m---------------------------------------------------------------------------\u001b[0m",
      "\u001b[0;31mImportError\u001b[0m                               Traceback (most recent call last)",
      "\u001b[0;32m<ipython-input-11-1d175f35e561>\u001b[0m in \u001b[0;36m<module>\u001b[0;34m()\u001b[0m\n\u001b[0;32m----> 1\u001b[0;31m \u001b[0;32mimport\u001b[0m \u001b[0mImage\u001b[0m\u001b[0;34m\u001b[0m\u001b[0m\n\u001b[0m\u001b[1;32m      2\u001b[0m \u001b[0;32mfrom\u001b[0m \u001b[0mwordcloud\u001b[0m \u001b[0;32mimport\u001b[0m \u001b[0mWordCloud\u001b[0m\u001b[0;34m\u001b[0m\u001b[0m\n",
      "\u001b[0;31mImportError\u001b[0m: No module named Image"
     ]
    }
   ],
   "source": [
    "import Image\n",
    "from wordcloud import WordCloud\n"
   ]
  },
  {
   "cell_type": "markdown",
   "metadata": {},
   "source": [
    "Principle Component Analysis to try to visualize the data. The first two PCA components only account for about 6 percent of variance in the data. When visualizing the scatter matrix of the first two components, the points do not seem to cluster together for a particular label but are randomly distributed."
   ]
  },
  {
   "cell_type": "code",
   "execution_count": null,
   "metadata": {
    "collapsed": false,
    "deletable": true,
    "editable": true
   },
   "outputs": [],
   "source": [
    "\n",
    "\n",
    "from sklearn.decomposition import PCA\n",
    "pca = PCA(n_components=2)\n",
    "pca.fit(x)\n",
    "\n",
    "print(pca.explained_variance_ratio_) \n",
    "\n",
    "reduced_data = pca.transform(x)\n",
    "\n",
    "# Create a DataFrame for the reduced data\n",
    "reduced_data = pd.DataFrame(reduced_data, columns = ['Dimension 1', 'Dimension 2'])\n",
    "\n",
    "# scatterplot of the reduced data    \n",
    "\n",
    "fig, ax = plt.subplots(figsize = (20,10))\n",
    "ax.scatter(x=reduced_data.loc[:, 'Dimension 1'], y=reduced_data.loc[:, 'Dimension 2'], s=70, alpha=0.5, c=labels)\n",
    "ax.set_xlabel(\"Dimension 1\", fontsize=14)\n",
    "ax.set_ylabel(\"Dimension 2\", fontsize=14)\n",
    "\n",
    "# Set plot title\n",
    "ax.set_title(\"PCA-Reduced Data colored by label\", fontsize=14)"
   ]
  },
  {
   "cell_type": "code",
   "execution_count": null,
   "metadata": {
    "collapsed": false,
    "deletable": true,
    "editable": true
   },
   "outputs": [],
   "source": [
    "# heatmap\n",
    "\n",
    "import seaborn as sns\n",
    "\n",
    "sns.heatmap(x, annot=True, linewidth=.1, vmax=99, fmt='.1f', cmap='YlOrRd', square=True, cbar=False)"
   ]
  },
  {
   "cell_type": "markdown",
   "metadata": {},
   "source": [
    "Subsample x and visualize word counts as heatmap...\n",
    "\n",
    "\n",
    "\n"
   ]
  },
  {
   "cell_type": "markdown",
   "metadata": {
    "deletable": true,
    "editable": true
   },
   "source": [
    "As with any machine learning application, we want to split our data into training and testing datasets. I used StratifiedShuffleSplit to split the data and labels. After splitting, the training set is 1054 samples and the testing set is 118 samples."
   ]
  },
  {
   "cell_type": "code",
   "execution_count": null,
   "metadata": {
    "collapsed": false,
    "deletable": true,
    "editable": true
   },
   "outputs": [],
   "source": [
    "from sklearn.model_selection import StratifiedShuffleSplit\n",
    "sss = StratifiedShuffleSplit(n_splits=1, test_size=0.1, random_state=0)\n",
    "for train_index, test_index in sss.split(x, labels_tf):\n",
    "    x_train, x_test = x[train_index], x[test_index]\n",
    "    y_train, y_test = labels_tf[train_index], labels_tf[test_index]\n",
    "    \n",
    "    # For logistic regression model, we simply need the labels (not one-hot vectors)\n",
    "    labels_train, labels_test = df['author'][train_index], df['author'][test_index]\n",
    "\n",
    "vocab_size = len(vocabulary)\n",
    "doc_size = x_train.shape[1]\n",
    "print \"Train/test split: %d/%d\" % (len(y_train), len(y_test))\n",
    "print 'Train shape:', x_train.shape\n",
    "print 'Test shape:', x_test.shape\n"
   ]
  },
  {
   "cell_type": "markdown",
   "metadata": {
    "deletable": true,
    "editable": true
   },
   "source": [
    "### Benchmark Model\n",
    "For the benchmark model, I chose to build Logistic Regression Model due to its simplicity and easy interpretation. The benchmark perform okay with the accuracy score on the test dataset of 0.6."
   ]
  },
  {
   "cell_type": "code",
   "execution_count": null,
   "metadata": {
    "collapsed": false,
    "deletable": true,
    "editable": true
   },
   "outputs": [],
   "source": [
    "from sklearn import linear_model\n",
    "from time import time\n",
    "\n",
    "print \"starting log reg modeling...\"\n",
    "\n",
    "t0 = time()\n",
    "clf = linear_model.LogisticRegression(solver='sag', max_iter=1000, random_state=42,\n",
    "                                 multi_class=\"ovr\").fit(x_train, labels_train)\n",
    "pred = clf.predict(x_test)\n",
    "\n",
    "from sklearn.metrics import accuracy_score\n",
    "acc = accuracy_score(pred, labels_test)\n",
    "\n",
    "tt = time()-t0\n",
    "print(\"Training Log Regression took: {}\").format(round(tt,3))\n",
    "print \"Accuracy score on test data is {}.\".format(round(acc,4))"
   ]
  },
  {
   "cell_type": "markdown",
   "metadata": {
    "deletable": true,
    "editable": true
   },
   "source": [
    "### Convolutional Neural Network Model\n",
    "I used TensorFlow to build a multi-layer convolutional network. The first layer is embedding layer. \n"
   ]
  },
  {
   "cell_type": "code",
   "execution_count": null,
   "metadata": {
    "collapsed": false,
    "deletable": true,
    "editable": true
   },
   "outputs": [],
   "source": [
    "import tensorflow as tf\n",
    "from time import time\n",
    "\n",
    "num_classes = len(labels_unique)\n",
    "\n",
    "x = tf.placeholder(tf.int32, [None, x_train.shape[1]], name=\"input_x\")\n",
    "\n",
    "# y_ is the correct classes\n",
    "y_ = tf.placeholder(tf.float32, [None, num_classes], name=\"input_y\")\n",
    "\n",
    "# Keeping track of l2 regularization loss \n",
    "l2_loss = tf.constant(0.0)\n",
    "\n",
    "embedding_size = 128\n",
    "filter_sizes = [3,4,5]\n",
    "num_filters = 128\n",
    "\n",
    "# Embedding layer\n",
    "W_emb = tf.Variable(tf.random_uniform([vocab_size, embedding_size], -1.0, 1.0))\n",
    "embedded_chars = tf.nn.embedding_lookup(W_emb, x)\n",
    "embedded_chars_expanded = tf.expand_dims(embedded_chars, -1)"
   ]
  },
  {
   "cell_type": "markdown",
   "metadata": {
    "deletable": true,
    "editable": true
   },
   "source": [
    "The second layer is convolution and pooling layer with three different filter lengths of 3, 4, and 5 that are then combined. The pooling filters out the maximum value for each convolution to reduce the size of the layer. "
   ]
  },
  {
   "cell_type": "code",
   "execution_count": null,
   "metadata": {
    "collapsed": false,
    "deletable": true,
    "editable": true
   },
   "outputs": [],
   "source": [
    "# Create a convolution + maxpool layer for each filter size\n",
    "pooled_outputs = []\n",
    "for i, filter_size in enumerate(filter_sizes):\n",
    "    # Convolution Layer\n",
    "    filter_shape = [filter_size, embedding_size, 1, num_filters]\n",
    "    W_conv = tf.Variable(tf.truncated_normal(filter_shape, stddev=0.1))\n",
    "    b_conv = tf.Variable(tf.constant(0.1, shape=[num_filters]))\n",
    "    conv = tf.nn.conv2d(\n",
    "        embedded_chars_expanded,\n",
    "        W_conv,\n",
    "        strides=[1, 1, 1, 1],\n",
    "        padding=\"VALID\")\n",
    "    # Apply nonlinearity\n",
    "    h = tf.nn.relu(tf.nn.bias_add(conv, b_conv))\n",
    "    # Maxpooling over the outputs\n",
    "    pooled = tf.nn.max_pool(\n",
    "        h,\n",
    "        ksize=[1, doc_size - filter_size + 1, 1, 1],\n",
    "        strides=[1, 1, 1, 1],\n",
    "        padding='VALID')\n",
    "    pooled_outputs.append(pooled)\n",
    "\n",
    "# Combine all the pooled features\n",
    "num_filters_total = num_filters * len(filter_sizes)\n",
    "h_pool = tf.concat(3, pooled_outputs)\n",
    "h_pool_flat = tf.reshape(h_pool, [-1, num_filters_total])"
   ]
  },
  {
   "cell_type": "markdown",
   "metadata": {
    "deletable": true,
    "editable": true
   },
   "source": [
    "To prune the network and reduce overfitting, we add dropout during training that disables the neurons that are less than 0.5 probability."
   ]
  },
  {
   "cell_type": "code",
   "execution_count": null,
   "metadata": {
    "collapsed": true,
    "deletable": true,
    "editable": true
   },
   "outputs": [],
   "source": [
    "# Add dropout\n",
    "keep_prob = tf.placeholder(tf.float32)\n",
    "h_drop = tf.nn.dropout(h_pool_flat, keep_prob)"
   ]
  },
  {
   "cell_type": "markdown",
   "metadata": {
    "deletable": true,
    "editable": true
   },
   "source": [
    "The last layer is fully-connected layer with the softmax output classification. "
   ]
  },
  {
   "cell_type": "code",
   "execution_count": null,
   "metadata": {
    "collapsed": false,
    "deletable": true,
    "editable": true
   },
   "outputs": [],
   "source": [
    "# Unnormalized scores and predictions\n",
    "W = tf.get_variable(\n",
    "    \"W\",\n",
    "    shape=[num_filters_total, num_classes],\n",
    "    initializer=tf.contrib.layers.xavier_initializer())\n",
    "b = tf.Variable(tf.constant(0.1, shape=[num_classes]))\n",
    "l2_loss += tf.nn.l2_loss(W)\n",
    "l2_loss += tf.nn.l2_loss(b)\n",
    "scores = tf.nn.xw_plus_b(h_drop, W, b)\n",
    "predictions = tf.argmax(scores, 1)"
   ]
  },
  {
   "cell_type": "markdown",
   "metadata": {
    "deletable": true,
    "editable": true
   },
   "source": [
    "During training, we use Adam Optimizer to minimize the objective function."
   ]
  },
  {
   "cell_type": "code",
   "execution_count": null,
   "metadata": {
    "collapsed": true,
    "deletable": true,
    "editable": true
   },
   "outputs": [],
   "source": [
    "l2_reg_lambda=0.0\n",
    "\n",
    "losses = tf.nn.softmax_cross_entropy_with_logits(scores, y_)\n",
    "cross_entropy = tf.reduce_mean(losses) + l2_reg_lambda * l2_loss\n",
    "\n",
    "# Accuracy score\n",
    "correct_predictions = tf.equal(predictions, tf.argmax(y_, 1))\n",
    "accuracy = tf.reduce_mean(tf.cast(correct_predictions, \"float\"))\n",
    "\n",
    "train_step = tf.train.AdamOptimizer(1e-4).minimize(cross_entropy)\n",
    "\n",
    "init = tf.global_variables_initializer()\n",
    "sess = tf.Session()\n",
    "sess.run(init)"
   ]
  },
  {
   "cell_type": "markdown",
   "metadata": {
    "deletable": true,
    "editable": true
   },
   "source": [
    "Training accuracy is computed for 500 iterations and printed every 100th step."
   ]
  },
  {
   "cell_type": "code",
   "execution_count": null,
   "metadata": {
    "collapsed": false,
    "deletable": true,
    "editable": true
   },
   "outputs": [],
   "source": [
    "t0 = time()\n",
    "for i in range(500):\n",
    "    # batch = mnist.train.next_batch(50)\n",
    "    if i%100 == 0:\n",
    "\n",
    "        train_accuracy = accuracy.eval(session=sess, feed_dict={ x: x_train, y_: y_train, keep_prob: 1.0})\n",
    "        print(\"step %d, training accuracy %g\"%(i, train_accuracy))\n",
    "    train_step.run(session=sess, feed_dict={x: x_train, y_: y_train, keep_prob: 0.5})\n",
    "\n",
    "\n",
    "tt = time()-t0\n",
    "print(\"Training TensorFlow NN took: {}\").format(round(tt,3))"
   ]
  },
  {
   "cell_type": "markdown",
   "metadata": {
    "deletable": true,
    "editable": true
   },
   "source": [
    "The CNN test accuracy is 0.86."
   ]
  },
  {
   "cell_type": "code",
   "execution_count": null,
   "metadata": {
    "collapsed": false,
    "deletable": true,
    "editable": true
   },
   "outputs": [],
   "source": [
    "print(\"test accuracy %g\"%accuracy.eval(session=sess, feed_dict={\n",
    "    x: x_test, y_: y_test, keep_prob: 1.0}))"
   ]
  }
 ],
 "metadata": {
  "kernelspec": {
   "display_name": "Python 2",
   "language": "python",
   "name": "python2"
  },
  "language_info": {
   "codemirror_mode": {
    "name": "ipython",
    "version": 2
   },
   "file_extension": ".py",
   "mimetype": "text/x-python",
   "name": "python",
   "nbconvert_exporter": "python",
   "pygments_lexer": "ipython2",
   "version": "2.7.13"
  }
 },
 "nbformat": 4,
 "nbformat_minor": 0
}
